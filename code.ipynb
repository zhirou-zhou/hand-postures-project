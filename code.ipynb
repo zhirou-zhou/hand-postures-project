import numpy as np
from sklearn.naive_bayes import GaussianNB
