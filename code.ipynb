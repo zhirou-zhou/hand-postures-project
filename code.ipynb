{
 "cells": [
  {
   "cell_type": "code",
   "execution_count": 1,
   "metadata": {},
   "outputs": [],
   "source": [
    "import numpy as np\n",
    "from sklearn.naive_bayes import GaussianNB"
   ]
  },
  {
   "cell_type": "code",
   "execution_count": 3,
   "metadata": {},
   "outputs": [],
   "source": [
    "dtrain = np.genfromtxt('./data_posture/D_train.csv', delimiter = \",\", skip_header = 1)\n",
    "dtest = np.genfromtxt('./data_posture/D_test.csv', delimiter = \",\", skip_header = 1)"
   ]
  },
  {
   "cell_type": "code",
   "execution_count": 4,
   "metadata": {},
   "outputs": [],
   "source": [
    "shape_train = np.shape(dtrain)\n",
    "dtrain_3d = np.reshape(dtrain[:, 3:], (shape_train[0], -1, 3))"
   ]
  },
  {
   "cell_type": "code",
   "execution_count": 5,
   "metadata": {},
   "outputs": [],
   "source": [
    "mean_all = np.nanmean(dtrain_3d, axis = (0, 1))\n",
    "std_all = np.nanstd(dtrain_3d, axis = (0, 1), ddof = 1)\n",
    "dtrain_norm = (dtrain_3d - mean_all) / std_all\n",
    "mean = np.nanmean(dtrain_norm, axis = 1)\n",
    "std = np.nanstd(dtrain_norm, axis = 1)\n",
    "maxim = np.nanmax(dtrain_norm, axis = 1)\n",
    "minum = np.nanmin(dtrain_norm, axis = 1)"
   ]
  },
  {
   "cell_type": "code",
   "execution_count": null,
   "metadata": {},
   "outputs": [],
   "source": [
    "num_marker = np.count_nonzero(~np.isnan(dtrain[:, 3:]), axis = 1) // 3\n",
    "num_marker = np.reshape(num_marker, (-1, 1))\n",
    "dtrain_tran = np.concatenate((num_marker, mean, std, maxim, minum), axis = 1)"
   ]
  },
  {
   "cell_type": "code",
   "execution_count": null,
   "metadata": {},
   "outputs": [],
   "source": [
    "gnb = GaussianNB()\n",
    "gnb.fit(dtrain_tran, dtrain[:, 1])\n",
    "y_pred = gnb.predict(dtrain_tran)\n",
    "gnb.score(dtrain_tran, dtrain[:, 1])\n",
    "#np.sum(y_pred == dtrain[:, 1]) / np.size(dtrain[:, 1])"
   ]
  },
  {
   "cell_type": "code",
   "execution_count": null,
   "metadata": {},
   "outputs": [],
   "source": [
    "shape_test = np.shape(dtest)\n",
    "dtest_3d = np.reshape(dtest[])"
   ]
  },
  {
   "cell_type": "code",
   "execution_count": null,
   "metadata": {},
   "outputs": [],
   "source": []
  }
 ],
 "metadata": {
  "kernelspec": {
   "display_name": "Python 3",
   "language": "python",
   "name": "python3"
  },
  "language_info": {
   "codemirror_mode": {
    "name": "ipython",
    "version": 3
   },
   "file_extension": ".py",
   "mimetype": "text/x-python",
   "name": "python",
   "nbconvert_exporter": "python",
   "pygments_lexer": "ipython3",
   "version": "3.7.3-final"
  }
 },
 "nbformat": 4,
 "nbformat_minor": 2
}